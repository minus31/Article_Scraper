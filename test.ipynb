{
 "cells": [
  {
   "cell_type": "markdown",
   "metadata": {},
   "source": [
    "time_limit form =  datetime.datetime.strptime(time_limit, \"%Y-%m-%d\"):\n",
    "동아 : \"%Y-%m-%d %H:%M\"\n"
   ]
  },
  {
   "cell_type": "code",
   "execution_count": 8,
   "metadata": {},
   "outputs": [],
   "source": [
    "import pickle \n",
    "import pandas as pd\n",
    "import os \n",
    "import datetime"
   ]
  },
  {
   "cell_type": "code",
   "execution_count": 3,
   "metadata": {},
   "outputs": [],
   "source": [
    "with open(\"./DoongA/doonga.bin\", \"rb\") as f:\n",
    "    obj = pickle.load(f)"
   ]
  },
  {
   "cell_type": "code",
   "execution_count": 4,
   "metadata": {},
   "outputs": [
    {
     "data": {
      "text/html": [
       "<div>\n",
       "<style scoped>\n",
       "    .dataframe tbody tr th:only-of-type {\n",
       "        vertical-align: middle;\n",
       "    }\n",
       "\n",
       "    .dataframe tbody tr th {\n",
       "        vertical-align: top;\n",
       "    }\n",
       "\n",
       "    .dataframe thead th {\n",
       "        text-align: right;\n",
       "    }\n",
       "</style>\n",
       "<table border=\"1\" class=\"dataframe\">\n",
       "  <thead>\n",
       "    <tr style=\"text-align: right;\">\n",
       "      <th></th>\n",
       "      <th>title</th>\n",
       "      <th>link</th>\n",
       "      <th>category</th>\n",
       "      <th>date</th>\n",
       "      <th>body</th>\n",
       "    </tr>\n",
       "  </thead>\n",
       "  <tbody>\n",
       "    <tr>\n",
       "      <th>2078</th>\n",
       "      <td>에너지 디바이드, 지구를 살리는 대가?</td>\n",
       "      <td>http://www.donga.com/news/article/all/20091214...</td>\n",
       "      <td>동아일보 &gt; 경제 | 김선우 기자 김선우 기자</td>\n",
       "      <td>2009-12-14 03:00</td>\n",
       "      <td>온실가스 감축이 본격화하면 에너지를 부담 없이 사용할 수 있는 계층과 그렇지 못한 ...</td>\n",
       "    </tr>\n",
       "    <tr>\n",
       "      <th>2079</th>\n",
       "      <td>내년에 제4이통사 생길 전망</td>\n",
       "      <td>http://www.donga.com/news/article/all/20091211...</td>\n",
       "      <td>동아일보 &gt; 경제 | 김상훈 기자</td>\n",
       "      <td>2009-12-11 23:07</td>\n",
       "      <td>SK텔레콤과 KT, LG텔레콤에 이어 '제4의 이동통신사'가 이르면 내년에 등장할 ...</td>\n",
       "    </tr>\n",
       "    <tr>\n",
       "      <th>2080</th>\n",
       "      <td>[희망＆나눔]추위를 녹이는 따뜻한 손길 “고마워요…”</td>\n",
       "      <td>http://www.donga.com/news/article/all/20091205...</td>\n",
       "      <td>동아일보 &gt; 경제 | 주성원 기자</td>\n",
       "      <td>2009-12-07 03:00</td>\n",
       "      <td>《글로벌 금융위기로 세계 경기는 지난해 하반기부터 꽁꽁 얼어붙었다. 수출 의존도가 ...</td>\n",
       "    </tr>\n",
       "    <tr>\n",
       "      <th>2081</th>\n",
       "      <td>[희망＆나눔]후끈 달아오른 사랑온도계… 기업이 이웃을 감싸안다</td>\n",
       "      <td>http://www.donga.com/news/article/all/20091205...</td>\n",
       "      <td>동아일보 &gt; 사회 | 정임수 기자 한상준 기자</td>\n",
       "      <td>2009-12-07 03:00</td>\n",
       "      <td>문화사업, 교육지원, 헌혈, 미아 찾기…. 한국전력의 사회공헌은 다양하다. 하지만 ...</td>\n",
       "    </tr>\n",
       "    <tr>\n",
       "      <th>2082</th>\n",
       "      <td>[신나는 공부]“접착제 중엔… 친구사이 잇는 ‘우정’도 있어요” “좋았어, 정답!”</td>\n",
       "      <td>http://www.donga.com/news/article/all/20091130...</td>\n",
       "      <td>동아일보 &gt; 사회</td>\n",
       "      <td>2009-12-01 03:00</td>\n",
       "      <td>《“다르게 생각하라!” 경북 포항제철서초교 김헌수 교사(49)와 경기 수원시 영화초...</td>\n",
       "    </tr>\n",
       "  </tbody>\n",
       "</table>\n",
       "</div>"
      ],
      "text/plain": [
       "                                                title  \\\n",
       "2078                           에너지 디바이드, 지구를 살리는 대가?    \n",
       "2079                                  내년에 제4이통사 생길 전망   \n",
       "2080                   [희망＆나눔]추위를 녹이는 따뜻한 손길 “고마워요…”    \n",
       "2081              [희망＆나눔]후끈 달아오른 사랑온도계… 기업이 이웃을 감싸안다    \n",
       "2082  [신나는 공부]“접착제 중엔… 친구사이 잇는 ‘우정’도 있어요” “좋았어, 정답!”    \n",
       "\n",
       "                                                   link  \\\n",
       "2078  http://www.donga.com/news/article/all/20091214...   \n",
       "2079  http://www.donga.com/news/article/all/20091211...   \n",
       "2080  http://www.donga.com/news/article/all/20091205...   \n",
       "2081  http://www.donga.com/news/article/all/20091205...   \n",
       "2082  http://www.donga.com/news/article/all/20091130...   \n",
       "\n",
       "                       category              date  \\\n",
       "2078  동아일보 > 경제 | 김선우 기자 김선우 기자  2009-12-14 03:00   \n",
       "2079         동아일보 > 경제 | 김상훈 기자  2009-12-11 23:07   \n",
       "2080         동아일보 > 경제 | 주성원 기자  2009-12-07 03:00   \n",
       "2081  동아일보 > 사회 | 정임수 기자 한상준 기자  2009-12-07 03:00   \n",
       "2082                  동아일보 > 사회  2009-12-01 03:00   \n",
       "\n",
       "                                                   body  \n",
       "2078  온실가스 감축이 본격화하면 에너지를 부담 없이 사용할 수 있는 계층과 그렇지 못한 ...  \n",
       "2079  SK텔레콤과 KT, LG텔레콤에 이어 '제4의 이동통신사'가 이르면 내년에 등장할 ...  \n",
       "2080  《글로벌 금융위기로 세계 경기는 지난해 하반기부터 꽁꽁 얼어붙었다. 수출 의존도가 ...  \n",
       "2081  문화사업, 교육지원, 헌혈, 미아 찾기…. 한국전력의 사회공헌은 다양하다. 하지만 ...  \n",
       "2082  《“다르게 생각하라!” 경북 포항제철서초교 김헌수 교사(49)와 경기 수원시 영화초...  "
      ]
     },
     "execution_count": 4,
     "metadata": {},
     "output_type": "execute_result"
    }
   ],
   "source": [
    "obj.tail()"
   ]
  },
  {
   "cell_type": "code",
   "execution_count": 6,
   "metadata": {},
   "outputs": [],
   "source": [
    "import datetime"
   ]
  },
  {
   "cell_type": "code",
   "execution_count": 10,
   "metadata": {},
   "outputs": [
    {
     "data": {
      "text/plain": [
       "True"
      ]
     },
     "execution_count": 10,
     "metadata": {},
     "output_type": "execute_result"
    }
   ],
   "source": [
    "datetime.datetime.strptime(obj.date[0], \"%Y-%m-%d %H:%M\") > datetime.datetime.strptime('2020-01-21 14:30', \"%Y-%m-%d %H:%M\")\n"
   ]
  },
  {
   "cell_type": "code",
   "execution_count": 5,
   "metadata": {},
   "outputs": [
    {
     "data": {
      "text/plain": [
       "'2020-01-22 14:30'"
      ]
     },
     "execution_count": 5,
     "metadata": {},
     "output_type": "execute_result"
    }
   ],
   "source": [
    "obj.date[0]"
   ]
  },
  {
   "cell_type": "code",
   "execution_count": 3,
   "metadata": {},
   "outputs": [
    {
     "data": {
      "text/html": [
       "<div>\n",
       "<style scoped>\n",
       "    .dataframe tbody tr th:only-of-type {\n",
       "        vertical-align: middle;\n",
       "    }\n",
       "\n",
       "    .dataframe tbody tr th {\n",
       "        vertical-align: top;\n",
       "    }\n",
       "\n",
       "    .dataframe thead th {\n",
       "        text-align: right;\n",
       "    }\n",
       "</style>\n",
       "<table border=\"1\" class=\"dataframe\">\n",
       "  <thead>\n",
       "    <tr style=\"text-align: right;\">\n",
       "      <th></th>\n",
       "      <th>title</th>\n",
       "      <th>link</th>\n",
       "      <th>category</th>\n",
       "      <th>date</th>\n",
       "      <th>body</th>\n",
       "    </tr>\n",
       "  </thead>\n",
       "  <tbody>\n",
       "    <tr>\n",
       "      <th>1195</th>\n",
       "      <td>가정용 도시가스요금 4.8% 인상</td>\n",
       "      <td>http://www.hani.co.kr/arti/economy/economy_gen...</td>\n",
       "      <td>경제경제일반</td>\n",
       "      <td>2008.11.11 10:33</td>\n",
       "      <td>도시가스 요금이 15일부터 가정용은 4.8%, 산업용은 9.7% 오른다.\\n    ...</td>\n",
       "    </tr>\n",
       "    <tr>\n",
       "      <th>1196</th>\n",
       "      <td>전기·가스 요금 이번주부터 평균 4.5%·7.3% 인상</td>\n",
       "      <td>http://www.hani.co.kr/arti/economy/economy_gen...</td>\n",
       "      <td>경제경제일반</td>\n",
       "      <td>2008.11.10 22:14</td>\n",
       "      <td>전기요금과 가스요금이 이번주 중반부터 각각 평균 4.5%와 7.3% 오를 것으로 보...</td>\n",
       "    </tr>\n",
       "    <tr>\n",
       "      <th>1197</th>\n",
       "      <td>전기·가스요금 인상 내일 발표</td>\n",
       "      <td>http://www.hani.co.kr/arti/society/society_gen...</td>\n",
       "      <td>사회사회일반</td>\n",
       "      <td>2008.11.10 18:11</td>\n",
       "      <td>지식경제부는 전기요금과 도시가스요금을  이번주부터 인상하는 방안을 11일 발표하기로...</td>\n",
       "    </tr>\n",
       "    <tr>\n",
       "      <th>1198</th>\n",
       "      <td>산업용 전기·가스요금 조만간 인상</td>\n",
       "      <td>http://www.hani.co.kr/arti/economy/economy_gen...</td>\n",
       "      <td>경제경제일반</td>\n",
       "      <td>2008.11.10 14:41</td>\n",
       "      <td>지식경제부가 10일 발표하기로 했던 산업용  전기요금과 도시가스요금의 인상을 돌연 ...</td>\n",
       "    </tr>\n",
       "    <tr>\n",
       "      <th>1199</th>\n",
       "      <td>울산 방과후학교 ‘관리수당’ 편법 기승</td>\n",
       "      <td>http://www.hani.co.kr/arti/society/area/318903...</td>\n",
       "      <td>전국전국일반</td>\n",
       "      <td>2008.10.29 21:09</td>\n",
       "      <td>울산시교육청이 올해 초·중·고교 방과후학교 수업료에 포함된 전기요금 등 수용비 일부...</td>\n",
       "    </tr>\n",
       "  </tbody>\n",
       "</table>\n",
       "</div>"
      ],
      "text/plain": [
       "                               title  \\\n",
       "1195              가정용 도시가스요금 4.8% 인상   \n",
       "1196  전기·가스 요금 이번주부터 평균 4.5%·7.3% 인상   \n",
       "1197                전기·가스요금 인상 내일 발표   \n",
       "1198              산업용 전기·가스요금 조만간 인상   \n",
       "1199           울산 방과후학교 ‘관리수당’ 편법 기승   \n",
       "\n",
       "                                                   link category  \\\n",
       "1195  http://www.hani.co.kr/arti/economy/economy_gen...   경제경제일반   \n",
       "1196  http://www.hani.co.kr/arti/economy/economy_gen...   경제경제일반   \n",
       "1197  http://www.hani.co.kr/arti/society/society_gen...   사회사회일반   \n",
       "1198  http://www.hani.co.kr/arti/economy/economy_gen...   경제경제일반   \n",
       "1199  http://www.hani.co.kr/arti/society/area/318903...   전국전국일반   \n",
       "\n",
       "                  date                                               body  \n",
       "1195  2008.11.11 10:33  도시가스 요금이 15일부터 가정용은 4.8%, 산업용은 9.7% 오른다.\\n    ...  \n",
       "1196  2008.11.10 22:14  전기요금과 가스요금이 이번주 중반부터 각각 평균 4.5%와 7.3% 오를 것으로 보...  \n",
       "1197  2008.11.10 18:11  지식경제부는 전기요금과 도시가스요금을  이번주부터 인상하는 방안을 11일 발표하기로...  \n",
       "1198  2008.11.10 14:41  지식경제부가 10일 발표하기로 했던 산업용  전기요금과 도시가스요금의 인상을 돌연 ...  \n",
       "1199  2008.10.29 21:09  울산시교육청이 올해 초·중·고교 방과후학교 수업료에 포함된 전기요금 등 수용비 일부...  "
      ]
     },
     "execution_count": 3,
     "metadata": {},
     "output_type": "execute_result"
    }
   ],
   "source": [
    "with open(\"./Hankyerae/hankyerae.bin\", \"rb\") as f:\n",
    "    obj = pickle.load(f)\n",
    "    \n",
    "obj.tail()"
   ]
  },
  {
   "cell_type": "code",
   "execution_count": 4,
   "metadata": {},
   "outputs": [
    {
     "ename": "SyntaxError",
     "evalue": "invalid syntax (<ipython-input-4-d01d8b5fd798>, line 1)",
     "output_type": "error",
     "traceback": [
      "\u001b[0;36m  File \u001b[0;32m\"<ipython-input-4-d01d8b5fd798>\"\u001b[0;36m, line \u001b[0;32m1\u001b[0m\n\u001b[0;31m    2008.11.11 10:33\u001b[0m\n\u001b[0m             ^\u001b[0m\n\u001b[0;31mSyntaxError\u001b[0m\u001b[0;31m:\u001b[0m invalid syntax\n"
     ]
    }
   ],
   "source": [
    "2008.11.11 10:33"
   ]
  },
  {
   "cell_type": "code",
   "execution_count": 10,
   "metadata": {},
   "outputs": [
    {
     "data": {
      "text/plain": [
       "datetime.datetime(2008, 11, 11, 10, 33)"
      ]
     },
     "execution_count": 10,
     "metadata": {},
     "output_type": "execute_result"
    }
   ],
   "source": [
    "datetime.datetime.strptime(\"2008.11.11 10:33\", \"%Y.%m.%d %H:%M\") > datetime.datetime.strptime('2020-01-21', \"%Y-%m-%d\")\n"
   ]
  },
  {
   "cell_type": "code",
   "execution_count": 11,
   "metadata": {},
   "outputs": [
    {
     "data": {
      "text/html": [
       "<div>\n",
       "<style scoped>\n",
       "    .dataframe tbody tr th:only-of-type {\n",
       "        vertical-align: middle;\n",
       "    }\n",
       "\n",
       "    .dataframe tbody tr th {\n",
       "        vertical-align: top;\n",
       "    }\n",
       "\n",
       "    .dataframe thead th {\n",
       "        text-align: right;\n",
       "    }\n",
       "</style>\n",
       "<table border=\"1\" class=\"dataframe\">\n",
       "  <thead>\n",
       "    <tr style=\"text-align: right;\">\n",
       "      <th></th>\n",
       "      <th>title</th>\n",
       "      <th>link</th>\n",
       "      <th>category</th>\n",
       "      <th>date</th>\n",
       "      <th>body</th>\n",
       "    </tr>\n",
       "  </thead>\n",
       "  <tbody>\n",
       "    <tr>\n",
       "      <th>9063</th>\n",
       "      <td>'고삐 풀린' 환율·물가, '인내하는' 정부?</td>\n",
       "      <td>https://news.joins.com/article/10408050</td>\n",
       "      <td>경제</td>\n",
       "      <td>2013.01.14 05:33</td>\n",
       "      <td>[김진형기자 ][정부, 조만간 강한 대책 내놓을 전망..'정책 실기' 비판도]원달러...</td>\n",
       "    </tr>\n",
       "    <tr>\n",
       "      <th>9064</th>\n",
       "      <td>[단독]내년부터 '현대전력·포스코전기' 설립 가능</td>\n",
       "      <td>https://news.joins.com/article/10408048</td>\n",
       "      <td>경제</td>\n",
       "      <td>2013.01.14 05:33</td>\n",
       "      <td>[유영호기자 yhryu@][인수위, 전력산업 구조 개편…한전 분할해 판매시장 경쟁전...</td>\n",
       "    </tr>\n",
       "    <tr>\n",
       "      <th>9065</th>\n",
       "      <td>세계 최대 CES 폐막, 예측 가능한 3가지 미래는?</td>\n",
       "      <td>https://news.joins.com/article/10406070</td>\n",
       "      <td>IT소식</td>\n",
       "      <td>2013.01.13 16:03</td>\n",
       "      <td>[라스베이거스(미국)=서명훈기자 ][[CES2013]170개국 3250개 업체 참여...</td>\n",
       "    </tr>\n",
       "    <tr>\n",
       "      <th>9066</th>\n",
       "      <td>강도로 돌변하는 '음식'</td>\n",
       "      <td>https://news.joins.com/article/10405386</td>\n",
       "      <td>경제</td>\n",
       "      <td>2013.01.13 14:21</td>\n",
       "      <td>[도영우현대병원 외과 과장 ][[머니위크]의사들이 쓰는 건강리포트]음식은 삶에서 빠...</td>\n",
       "    </tr>\n",
       "    <tr>\n",
       "      <th>9067</th>\n",
       "      <td>인수위, 공공요금 억제 방침…원가산정기준 강화</td>\n",
       "      <td>https://news.joins.com/article/10404425</td>\n",
       "      <td>정치</td>\n",
       "      <td>2013.01.13 11:15</td>\n",
       "      <td>【서울=뉴시스】박주연 기자 = 대통령직 인수위원회가 박근혜 대통령 당선인 집권 기간...</td>\n",
       "    </tr>\n",
       "  </tbody>\n",
       "</table>\n",
       "</div>"
      ],
      "text/plain": [
       "                              title                                     link  \\\n",
       "9063      '고삐 풀린' 환율·물가, '인내하는' 정부?  https://news.joins.com/article/10408050   \n",
       "9064    [단독]내년부터 '현대전력·포스코전기' 설립 가능  https://news.joins.com/article/10408048   \n",
       "9065  세계 최대 CES 폐막, 예측 가능한 3가지 미래는?  https://news.joins.com/article/10406070   \n",
       "9066                  강도로 돌변하는 '음식'  https://news.joins.com/article/10405386   \n",
       "9067      인수위, 공공요금 억제 방침…원가산정기준 강화  https://news.joins.com/article/10404425   \n",
       "\n",
       "     category              date  \\\n",
       "9063       경제  2013.01.14 05:33   \n",
       "9064       경제  2013.01.14 05:33   \n",
       "9065     IT소식  2013.01.13 16:03   \n",
       "9066       경제  2013.01.13 14:21   \n",
       "9067       정치  2013.01.13 11:15   \n",
       "\n",
       "                                                   body  \n",
       "9063  [김진형기자 ][정부, 조만간 강한 대책 내놓을 전망..'정책 실기' 비판도]원달러...  \n",
       "9064  [유영호기자 yhryu@][인수위, 전력산업 구조 개편…한전 분할해 판매시장 경쟁전...  \n",
       "9065  [라스베이거스(미국)=서명훈기자 ][[CES2013]170개국 3250개 업체 참여...  \n",
       "9066  [도영우현대병원 외과 과장 ][[머니위크]의사들이 쓰는 건강리포트]음식은 삶에서 빠...  \n",
       "9067  【서울=뉴시스】박주연 기자 = 대통령직 인수위원회가 박근혜 대통령 당선인 집권 기간...  "
      ]
     },
     "execution_count": 11,
     "metadata": {},
     "output_type": "execute_result"
    }
   ],
   "source": [
    "with open(\"./joongang.bin\", \"rb\") as f:\n",
    "    obj = pickle.load(f)\n",
    "    \n",
    "obj.tail()"
   ]
  },
  {
   "cell_type": "code",
   "execution_count": null,
   "metadata": {},
   "outputs": [],
   "source": [
    "2013.01.14 05:33 \"%Y.%m.%d %H:%M\""
   ]
  }
 ],
 "metadata": {
  "kernelspec": {
   "display_name": "Python 3",
   "language": "python",
   "name": "python3"
  },
  "language_info": {
   "codemirror_mode": {
    "name": "ipython",
    "version": 3
   },
   "file_extension": ".py",
   "mimetype": "text/x-python",
   "name": "python",
   "nbconvert_exporter": "python",
   "pygments_lexer": "ipython3",
   "version": "3.6.9"
  }
 },
 "nbformat": 4,
 "nbformat_minor": 4
}
